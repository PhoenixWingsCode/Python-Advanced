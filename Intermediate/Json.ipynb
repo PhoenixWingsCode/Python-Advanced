{
 "cells": [
  {
   "cell_type": "code",
   "execution_count": null,
   "id": "fb4547a5",
   "metadata": {},
   "outputs": [
    {
     "data": {
      "text/plain": [
       "{'firstName': 'Jane',\n",
       " 'lastName': 'Doe',\n",
       " 'hobbies': ['running', 'swimming', 'singing'],\n",
       " 'age': 28,\n",
       " 'children': [{'firstName': 'Alex', 'age': 5}, {'firstName': 'Bob', 'age': 7}]}"
      ]
     },
     "execution_count": 1,
     "metadata": {},
     "output_type": "execute_result"
    }
   ],
   "source": [
    "{\n",
    "    \"firstName\": \"Jane\",\n",
    "    \"lastName\": \"Doe\",\n",
    "    \"hobbies\": [\"running\", \"swimming\", \"singing\"],\n",
    "    \"age\": 28,\n",
    "    \"children\": [\n",
    "        {\n",
    "            \"firstName\": \"Alex\",\n",
    "            \"age\": 5\n",
    "        },\n",
    "        {\n",
    "            \"firstName\": \"Bob\",\n",
    "            \"age\": 7\n",
    "        }\n",
    "    ]\n",
    "}"
   ]
  },
  {
   "cell_type": "code",
   "execution_count": 3,
   "id": "0c3d120a",
   "metadata": {},
   "outputs": [
    {
     "name": "stdout",
     "output_type": "stream",
     "text": [
      "{\"name\": \"John\", \"age\": 30, \"city\": \"New York\", \"hasChildren\": false, \"titles\": [\"engineer\", \"programmer\"]}\n",
      "{\n",
      "    \"age\"= 30; \n",
      "    \"city\"= \"New York\"; \n",
      "    \"hasChildren\"= false; \n",
      "    \"name\"= \"John\"; \n",
      "    \"titles\"= [\n",
      "        \"engineer\"; \n",
      "        \"programmer\"\n",
      "    ]\n",
      "}\n"
     ]
    }
   ],
   "source": [
    "#From Python to JSON (Serialization, Encode)\n",
    "\n",
    "import json\n",
    "\n",
    "person = {\"name\": \"John\", \"age\": 30, \"city\": \"New York\", \"hasChildren\": False, \"titles\": [\"engineer\", \"programmer\"]}\n",
    "\n",
    "# convert into JSON:\n",
    "person_json = json.dumps(person)\n",
    "# use different formatting style\n",
    "person_json2 = json.dumps(person, indent=4, separators=(\"; \", \"= \"), sort_keys=True)\n",
    "\n",
    "# the result is a JSON string:\n",
    "print(person_json) \n",
    "print(person_json2) "
   ]
  },
  {
   "cell_type": "code",
   "execution_count": 4,
   "id": "fd3ae39f",
   "metadata": {},
   "outputs": [],
   "source": [
    "import json\n",
    "\n",
    "person = {\"name\": \"John\", \"age\": 30, \"city\": \"New York\", \"hasChildren\": False, \"titles\": [\"engineer\", \"programmer\"]}\n",
    "\n",
    "with open('person.json', 'w') as f:\n",
    "    json.dump(person, f, indent=4) # you can also specify indent etc..."
   ]
  },
  {
   "cell_type": "code",
   "execution_count": 5,
   "id": "dd53ec39",
   "metadata": {},
   "outputs": [
    {
     "name": "stdout",
     "output_type": "stream",
     "text": [
      "{'age': 30, 'city': 'New York', 'hasChildren': False, 'name': 'John', 'titles': ['engineer', 'programmer']}\n"
     ]
    }
   ],
   "source": [
    "#FROM JSON to Python (Deserialization, Decode)\n",
    "import json\n",
    "person_json = \"\"\"\n",
    "{\n",
    "    \"age\": 30, \n",
    "    \"city\": \"New York\",\n",
    "    \"hasChildren\": false, \n",
    "    \"name\": \"John\",\n",
    "    \"titles\": [\n",
    "        \"engineer\",\n",
    "        \"programmer\"\n",
    "    ]\n",
    "}\n",
    "\"\"\"\n",
    "person = json.loads(person_json)\n",
    "print(person)"
   ]
  },
  {
   "cell_type": "code",
   "execution_count": 6,
   "id": "d40e3cde",
   "metadata": {},
   "outputs": [
    {
     "name": "stdout",
     "output_type": "stream",
     "text": [
      "{'name': 'John', 'age': 30, 'city': 'New York', 'hasChildren': False, 'titles': ['engineer', 'programmer']}\n"
     ]
    }
   ],
   "source": [
    "#Or load data from a file and convert it to a Python object with the json.load() method.\n",
    "import json\n",
    "\n",
    "with open('person.json', 'r') as f:\n",
    "    person = json.load(f)\n",
    "    print(person)"
   ]
  },
  {
   "cell_type": "code",
   "execution_count": 10,
   "id": "5566950f",
   "metadata": {},
   "outputs": [
    {
     "name": "stdout",
     "output_type": "stream",
     "text": [
      "{\"name\": \"Max\", \"age\": 27, \"User\": true}\n"
     ]
    }
   ],
   "source": [
    "import json\n",
    "\n",
    "class User:\n",
    "    def __init__(self, name, age):\n",
    "        self.name = name\n",
    "        self.age = age\n",
    "\n",
    "user = User('Max', 27)\n",
    "\n",
    "def encode_user(obj):\n",
    "    if isinstance(obj, User):\n",
    "        return {\n",
    "            'name': obj.name,\n",
    "            'age': obj.age,\n",
    "            obj.__class__.__name__: True\n",
    "        }\n",
    "    else:\n",
    "        raise TypeError(f'Object of type {obj.__class__.__name__} is not JSON serializable')\n",
    "\n",
    "# Use the custom encoder\n",
    "userJSON = json.dumps(user, default=encode_user)\n",
    "\n",
    "print(userJSON)"
   ]
  },
  {
   "cell_type": "code",
   "execution_count": 20,
   "id": "cdb20645",
   "metadata": {},
   "outputs": [
    {
     "name": "stdout",
     "output_type": "stream",
     "text": [
      "{\"name\": \"Max\", \"age\": 27, \"User\": true}\n",
      "{\"name\": \"Max\", \"age\": 27, \"User\": true}\n",
      "<__main__.User object at 0x0000019BB1968590>\n",
      "<class '__main__.User'>\n",
      "{'name': 'Max', 'age': 27, 'User': True}\n",
      "<class 'dict'>\n"
     ]
    }
   ],
   "source": [
    "import json\n",
    "\n",
    "class User:\n",
    "    def __init__(self, name, age):\n",
    "        self.name = name\n",
    "        self.age = age\n",
    "\n",
    "user = User('Max', 27)\n",
    "\n",
    "def encode_user(obj):\n",
    "    if isinstance(obj, User):\n",
    "        return {\n",
    "            'name': obj.name,\n",
    "            'age': obj.age,\n",
    "            obj.__class__.__name__: True\n",
    "        }\n",
    "    else:\n",
    "        raise TypeError(f'Object of type {obj.__class__.__name__} is not JSON serializable')\n",
    "\n",
    "# Use the custom encoder\n",
    "\n",
    "from json import JSONEncoder\n",
    "class UserEncoder(JSONEncoder):\n",
    "\n",
    "    def default(self, obj):\n",
    "        if isinstance(obj, User):\n",
    "            return {\n",
    "                'name': obj.name,\n",
    "                'age': obj.age,\n",
    "                obj.__class__.__name__: True\n",
    "            } \n",
    "        return JSONEncoder.default(self, obj)\n",
    "    \n",
    "userJSON = json.dumps(user, cls=UserEncoder)\n",
    "print(userJSON)\n",
    "\n",
    "userJSON = UserEncoder().encode(user)\n",
    "print(userJSON)\n",
    "\n",
    "# custom decoding function\n",
    "def decode_user(dct):\n",
    "    if User.__name__ in dct:\n",
    "        return User(name=dct['name'],age=dct['age'])\n",
    "    return dct \n",
    "\n",
    "user = json.loads(userJSON, object_hook=decode_user)\n",
    "print(user)\n",
    "print(type(user))\n",
    "\n",
    "user = json.loads(userJSON)\n",
    "print(user)\n",
    "print(type(user))"
   ]
  }
 ],
 "metadata": {
  "kernelspec": {
   "display_name": "Python 3",
   "language": "python",
   "name": "python3"
  },
  "language_info": {
   "codemirror_mode": {
    "name": "ipython",
    "version": 3
   },
   "file_extension": ".py",
   "mimetype": "text/x-python",
   "name": "python",
   "nbconvert_exporter": "python",
   "pygments_lexer": "ipython3",
   "version": "3.12.10"
  }
 },
 "nbformat": 4,
 "nbformat_minor": 5
}
