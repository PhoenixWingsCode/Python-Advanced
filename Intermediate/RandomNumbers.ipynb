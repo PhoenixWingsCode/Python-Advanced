{
 "cells": [
  {
   "cell_type": "code",
   "execution_count": 1,
   "id": "5a44591e",
   "metadata": {},
   "outputs": [
    {
     "name": "stdout",
     "output_type": "stream",
     "text": [
      "0.6633459365784276\n",
      "1.197476789514658\n",
      "3\n",
      "6\n",
      "-0.6205329963238881\n",
      "D\n",
      "['H', 'E', 'I']\n",
      "['E', 'C', 'C']\n",
      "['E', 'G', 'H', 'I', 'F', 'B', 'A', 'C', 'D']\n"
     ]
    }
   ],
   "source": [
    "#The random module\n",
    "import random\n",
    "\n",
    "# random float in [0,1)\n",
    "a = random.random()\n",
    "print(a)\n",
    "\n",
    "# random float in range [a,b]\n",
    "a = random.uniform(1,10)\n",
    "print(a)\n",
    "\n",
    "# random integer in range [a,b]. b is included\n",
    "a = random.randint(1,10)\n",
    "print(a)\n",
    "\n",
    "# random integer in range [a,b). b is excluded\n",
    "a = random.randrange(1,10)\n",
    "print(a)\n",
    "\n",
    "# random float from a normal distribution with mu and sigma\n",
    "a = random.normalvariate(0, 1)\n",
    "print(a)\n",
    "\n",
    "# choose a random element from a sequence\n",
    "a = random.choice(list(\"ABCDEFGHI\"))\n",
    "print(a)\n",
    "\n",
    "# choose k unique random elements from a sequence\n",
    "a = random.sample(list(\"ABCDEFGHI\"), 3)\n",
    "print(a)\n",
    "\n",
    "# choose k elements with replacement, and return k sized list\n",
    "a = random.choices(list(\"ABCDEFGHI\"),k=3)\n",
    "print(a)\n",
    "\n",
    "# shuffle list in place\n",
    "a = list(\"ABCDEFGHI\")\n",
    "random.shuffle(a)\n",
    "print(a)"
   ]
  },
  {
   "cell_type": "code",
   "execution_count": 2,
   "id": "70641a5b",
   "metadata": {},
   "outputs": [
    {
     "name": "stdout",
     "output_type": "stream",
     "text": [
      "Seeding with 1...\n",
      "\n",
      "0.13436424411240122\n",
      "8.626903632435095\n",
      "B\n",
      "\n",
      "Re-seeding with 42...\n",
      "\n",
      "0.6394267984578837\n",
      "1.2250967970040025\n",
      "E\n",
      "\n",
      "Re-seeding with 1...\n",
      "\n",
      "0.13436424411240122\n",
      "8.626903632435095\n",
      "B\n",
      "\n",
      "Re-seeding with 42...\n",
      "\n",
      "0.6394267984578837\n",
      "1.2250967970040025\n",
      "E\n"
     ]
    }
   ],
   "source": [
    "#The seed generator\n",
    "print('Seeding with 1...\\n')\n",
    "\n",
    "random.seed(1)\n",
    "print(random.random())\n",
    "print(random.uniform(1,10))\n",
    "print(random.choice(list(\"ABCDEFGHI\")))\n",
    "\n",
    "print('\\nRe-seeding with 42...\\n')\n",
    "random.seed(42)  # Re-seed\n",
    "\n",
    "print(random.random())\n",
    "print(random.uniform(1,10))\n",
    "print(random.choice(list(\"ABCDEFGHI\")))\n",
    "\n",
    "print('\\nRe-seeding with 1...\\n')\n",
    "random.seed(1)  # Re-seed\n",
    "\n",
    "print(random.random())\n",
    "print(random.uniform(1,10))\n",
    "print(random.choice(list(\"ABCDEFGHI\")))\n",
    "\n",
    "print('\\nRe-seeding with 42...\\n')\n",
    "random.seed(42)  # Re-seed\n",
    "\n",
    "print(random.random())\n",
    "print(random.uniform(1,10))\n",
    "print(random.choice(list(\"ABCDEFGHI\")))"
   ]
  },
  {
   "cell_type": "code",
   "execution_count": 3,
   "id": "42861925",
   "metadata": {},
   "outputs": [
    {
     "name": "stdout",
     "output_type": "stream",
     "text": [
      "7\n",
      "15\n",
      "A\n"
     ]
    }
   ],
   "source": [
    "#The secrets module\n",
    "import secrets\n",
    "\n",
    "# random integer in range [0, n).\n",
    "a = secrets.randbelow(10)\n",
    "print(a)\n",
    "\n",
    "# return an integer with k random bits.\n",
    "a = secrets.randbits(5)\n",
    "print(a)\n",
    "\n",
    "# choose a random element from a sequence\n",
    "a = secrets.choice(list(\"ABCDEFGHI\"))\n",
    "print(a)"
   ]
  },
  {
   "cell_type": "code",
   "execution_count": 4,
   "id": "f87b6966",
   "metadata": {},
   "outputs": [
    {
     "name": "stdout",
     "output_type": "stream",
     "text": [
      "[4.17022005e-01 7.20324493e-01 1.14374817e-04]\n",
      "[4.17022005e-01 7.20324493e-01 1.14374817e-04]\n",
      "[[5 0 0]\n",
      " [1 7 6]\n",
      " [9 2 4]\n",
      " [5 2 4]\n",
      " [2 4 7]]\n",
      "[-2.29230928 -1.41555249  0.8858294   0.63190187  0.04026035]\n",
      "[[4 5 6]\n",
      " [7 8 9]\n",
      " [1 2 3]]\n"
     ]
    }
   ],
   "source": [
    "#Random numbers with NumPy\n",
    "import numpy as np\n",
    "\n",
    "np.random.seed(1)\n",
    "# rand(d0,d1,…,dn)\n",
    "# generate nd array with random floats, arrays has size (d0,d1,…,dn)\n",
    "print(np.random.rand(3))\n",
    "# reset the seed\n",
    "np.random.seed(1)\n",
    "print(np.random.rand(3))\n",
    "\n",
    "# generate nd array with random integers in range [a,b) with size n\n",
    "values = np.random.randint(0, 10, (5,3))\n",
    "print(values)\n",
    "\n",
    "# generate nd array with Gaussian values, array has size (d0,d1,…,dn)\n",
    "# values from standard normal distribution with mean 0.0 and standard deviation 1.0\n",
    "values = np.random.randn(5)\n",
    "print(values)\n",
    "\n",
    "# randomly shuffle a nd array.\n",
    "# only shuffles the array along the first axis of a multi-dimensional array\n",
    "arr = np.array([[1,2,3], [4,5,6], [7,8,9]])\n",
    "np.random.shuffle(arr)\n",
    "print(arr)"
   ]
  }
 ],
 "metadata": {
  "kernelspec": {
   "display_name": "Python 3",
   "language": "python",
   "name": "python3"
  },
  "language_info": {
   "codemirror_mode": {
    "name": "ipython",
    "version": 3
   },
   "file_extension": ".py",
   "mimetype": "text/x-python",
   "name": "python",
   "nbconvert_exporter": "python",
   "pygments_lexer": "ipython3",
   "version": "3.12.10"
  }
 },
 "nbformat": 4,
 "nbformat_minor": 5
}
