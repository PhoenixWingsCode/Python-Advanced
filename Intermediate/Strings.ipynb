{
 "cells": [
  {
   "cell_type": "code",
   "execution_count": 1,
   "id": "9420f05c",
   "metadata": {},
   "outputs": [
    {
     "name": "stdout",
     "output_type": "stream",
     "text": [
      "Hello world\n"
     ]
    }
   ],
   "source": [
    "# Strings : ordered, immutable, text representation\n",
    "myString = \"Hello world\"\n",
    "print(myString)"
   ]
  },
  {
   "cell_type": "code",
   "execution_count": 2,
   "id": "0ee53188",
   "metadata": {},
   "outputs": [
    {
     "name": "stdout",
     "output_type": "stream",
     "text": [
      "Hello world\n"
     ]
    }
   ],
   "source": [
    "myString = 'Hello world'\n",
    "print(myString)"
   ]
  },
  {
   "cell_type": "code",
   "execution_count": 3,
   "id": "fba7a760",
   "metadata": {},
   "outputs": [
    {
     "name": "stdout",
     "output_type": "stream",
     "text": [
      "I'm a programmer\n"
     ]
    }
   ],
   "source": [
    "myString = \"\"\"I'm a programmer\"\"\"\n",
    "print(myString)"
   ]
  },
  {
   "cell_type": "code",
   "execution_count": 4,
   "id": "aca32661",
   "metadata": {},
   "outputs": [
    {
     "name": "stdout",
     "output_type": "stream",
     "text": [
      "Hello\n",
      "World\n"
     ]
    }
   ],
   "source": [
    "myString = \"\"\"Hello\n",
    "World\"\"\"\n",
    "print(myString)"
   ]
  },
  {
   "cell_type": "code",
   "execution_count": 5,
   "id": "457ca3b3",
   "metadata": {},
   "outputs": [
    {
     "name": "stdout",
     "output_type": "stream",
     "text": [
      "Hello World\n"
     ]
    }
   ],
   "source": [
    "myString = \"\"\"Hello \\\n",
    "World\"\"\"\n",
    "print(myString)"
   ]
  },
  {
   "cell_type": "code",
   "execution_count": 6,
   "id": "c033a241",
   "metadata": {},
   "outputs": [
    {
     "name": "stdout",
     "output_type": "stream",
     "text": [
      "H\n"
     ]
    }
   ],
   "source": [
    "myString = \"Hello world\"\n",
    "char = myString[0]\n",
    "print(char)"
   ]
  },
  {
   "cell_type": "code",
   "execution_count": 7,
   "id": "ac552b2a",
   "metadata": {},
   "outputs": [
    {
     "name": "stdout",
     "output_type": "stream",
     "text": [
      "d\n"
     ]
    }
   ],
   "source": [
    "myString = \"Hello world\"\n",
    "char = myString[-1]\n",
    "print(char)"
   ]
  },
  {
   "cell_type": "code",
   "execution_count": 8,
   "id": "35c7b5da",
   "metadata": {},
   "outputs": [
    {
     "name": "stdout",
     "output_type": "stream",
     "text": [
      "ello\n"
     ]
    }
   ],
   "source": [
    "myString = \"Hello world\"\n",
    "subString = myString[1:5]\n",
    "print(subString)"
   ]
  },
  {
   "cell_type": "code",
   "execution_count": 9,
   "id": "bee9a638",
   "metadata": {},
   "outputs": [
    {
     "name": "stdout",
     "output_type": "stream",
     "text": [
      "Hello\n"
     ]
    }
   ],
   "source": [
    "myString = \"Hello world\"\n",
    "subString = myString[:5]\n",
    "print(subString)"
   ]
  },
  {
   "cell_type": "code",
   "execution_count": 10,
   "id": "daf8257f",
   "metadata": {},
   "outputs": [
    {
     "name": "stdout",
     "output_type": "stream",
     "text": [
      "Hello world\n"
     ]
    }
   ],
   "source": [
    "myString = \"Hello world\"\n",
    "subString = myString[::1]\n",
    "print(subString)"
   ]
  },
  {
   "cell_type": "code",
   "execution_count": 11,
   "id": "3a98b879",
   "metadata": {},
   "outputs": [
    {
     "name": "stdout",
     "output_type": "stream",
     "text": [
      "Hlowrd\n"
     ]
    }
   ],
   "source": [
    "myString = \"Hello world\"\n",
    "subString = myString[::2]\n",
    "print(subString)"
   ]
  },
  {
   "cell_type": "code",
   "execution_count": 12,
   "id": "d980a2f5",
   "metadata": {},
   "outputs": [
    {
     "name": "stdout",
     "output_type": "stream",
     "text": [
      "dlrow olleH\n"
     ]
    }
   ],
   "source": [
    "myString = \"Hello world\"\n",
    "subString = myString[::-1]\n",
    "print(subString)"
   ]
  },
  {
   "cell_type": "code",
   "execution_count": 13,
   "id": "08278c58",
   "metadata": {},
   "outputs": [
    {
     "name": "stdout",
     "output_type": "stream",
     "text": [
      "Hello Tom\n"
     ]
    }
   ],
   "source": [
    "greeting = \"Hello\"\n",
    "name = \"Tom\"\n",
    "sentence = greeting + \" \" + name\n",
    "print(sentence)"
   ]
  },
  {
   "cell_type": "code",
   "execution_count": 14,
   "id": "65a08b54",
   "metadata": {},
   "outputs": [
    {
     "name": "stdout",
     "output_type": "stream",
     "text": [
      "H\n",
      "e\n",
      "l\n",
      "l\n",
      "o\n"
     ]
    }
   ],
   "source": [
    "greeting = \"Hello\"\n",
    "for i in greeting:\n",
    "    print(i)"
   ]
  },
  {
   "cell_type": "code",
   "execution_count": 15,
   "id": "a19f8a43",
   "metadata": {},
   "outputs": [
    {
     "name": "stdout",
     "output_type": "stream",
     "text": [
      "yes\n"
     ]
    }
   ],
   "source": [
    "greeting = \"Hello\"\n",
    "if 'e' in greeting:\n",
    "    print(\"yes\")\n",
    "else:\n",
    "    print(\"no\")"
   ]
  },
  {
   "cell_type": "code",
   "execution_count": 16,
   "id": "8b2e2f5d",
   "metadata": {},
   "outputs": [
    {
     "name": "stdout",
     "output_type": "stream",
     "text": [
      "yes\n"
     ]
    }
   ],
   "source": [
    "greeting = \"Hello\"\n",
    "if 'ell' in greeting:\n",
    "    print(\"yes\")\n",
    "else:\n",
    "    print(\"no\")"
   ]
  },
  {
   "cell_type": "code",
   "execution_count": 17,
   "id": "dad574e5",
   "metadata": {},
   "outputs": [
    {
     "name": "stdout",
     "output_type": "stream",
     "text": [
      "  Hello world   \n"
     ]
    }
   ],
   "source": [
    "myString = \"  Hello world   \"\n",
    "print(myString)"
   ]
  },
  {
   "cell_type": "code",
   "execution_count": 18,
   "id": "c4fe8c3b",
   "metadata": {},
   "outputs": [
    {
     "name": "stdout",
     "output_type": "stream",
     "text": [
      "Hello world\n"
     ]
    }
   ],
   "source": [
    "myString = \"  Hello world   \"\n",
    "myString = myString.strip()\n",
    "print(myString)"
   ]
  },
  {
   "cell_type": "code",
   "execution_count": 19,
   "id": "8a77216f",
   "metadata": {},
   "outputs": [
    {
     "name": "stdout",
     "output_type": "stream",
     "text": [
      "HELLO WORLD\n"
     ]
    }
   ],
   "source": [
    "myString = \"Hello world\"\n",
    "print(myString.upper())"
   ]
  },
  {
   "cell_type": "code",
   "execution_count": 20,
   "id": "405cb859",
   "metadata": {},
   "outputs": [
    {
     "name": "stdout",
     "output_type": "stream",
     "text": [
      "hello world\n"
     ]
    }
   ],
   "source": [
    "myString = \"Hello world\"\n",
    "print(myString.lower())"
   ]
  },
  {
   "cell_type": "code",
   "execution_count": 21,
   "id": "cfa2b092",
   "metadata": {},
   "outputs": [
    {
     "name": "stdout",
     "output_type": "stream",
     "text": [
      "True\n"
     ]
    }
   ],
   "source": [
    "myString = \"Hello world\"\n",
    "print(myString.startswith('Hello'))"
   ]
  },
  {
   "cell_type": "code",
   "execution_count": 22,
   "id": "8513f276",
   "metadata": {},
   "outputs": [
    {
     "name": "stdout",
     "output_type": "stream",
     "text": [
      "False\n"
     ]
    }
   ],
   "source": [
    "myString = \"Hello world\"\n",
    "print(myString.endswith('World'))"
   ]
  },
  {
   "cell_type": "code",
   "execution_count": 23,
   "id": "c9c63558",
   "metadata": {},
   "outputs": [
    {
     "name": "stdout",
     "output_type": "stream",
     "text": [
      "4\n"
     ]
    }
   ],
   "source": [
    "myString = \"Hello world\"\n",
    "print(myString.find('o'))"
   ]
  },
  {
   "cell_type": "code",
   "execution_count": 25,
   "id": "540abd18",
   "metadata": {},
   "outputs": [
    {
     "name": "stdout",
     "output_type": "stream",
     "text": [
      "3\n"
     ]
    }
   ],
   "source": [
    "myString = \"Hello world\"\n",
    "print(myString.count('l'))"
   ]
  },
  {
   "cell_type": "code",
   "execution_count": 27,
   "id": "0098046d",
   "metadata": {},
   "outputs": [
    {
     "name": "stdout",
     "output_type": "stream",
     "text": [
      "Hello Universe\n"
     ]
    }
   ],
   "source": [
    "myString = \"Hello world\"\n",
    "print(myString.replace('world', 'Universe'))"
   ]
  },
  {
   "cell_type": "code",
   "execution_count": 28,
   "id": "e34d3bf3",
   "metadata": {},
   "outputs": [
    {
     "name": "stdout",
     "output_type": "stream",
     "text": [
      "['how', 'are', 'you', 'doing']\n"
     ]
    }
   ],
   "source": [
    "myString = \"how are you doing\"\n",
    "myList = myString.split()\n",
    "print(myList)"
   ]
  },
  {
   "cell_type": "code",
   "execution_count": 29,
   "id": "c69a32f9",
   "metadata": {},
   "outputs": [
    {
     "name": "stdout",
     "output_type": "stream",
     "text": [
      "['how,are,you,doing']\n"
     ]
    }
   ],
   "source": [
    "myString = \"how,are,you,doing\"\n",
    "myList = myString.split(\" \")\n",
    "print(myList)"
   ]
  },
  {
   "cell_type": "code",
   "execution_count": 30,
   "id": "da468982",
   "metadata": {},
   "outputs": [
    {
     "name": "stdout",
     "output_type": "stream",
     "text": [
      "['how', 'are', 'you', 'doing']\n"
     ]
    }
   ],
   "source": [
    "myString = \"how,are,you,doing\"\n",
    "myList = myString.split(\",\")\n",
    "print(myList)"
   ]
  },
  {
   "cell_type": "code",
   "execution_count": 32,
   "id": "3cf634db",
   "metadata": {},
   "outputs": [
    {
     "name": "stdout",
     "output_type": "stream",
     "text": [
      "howareyoudoing\n"
     ]
    }
   ],
   "source": [
    "myString = \"how,are,you,doing\"\n",
    "myList = myString.split(\",\")\n",
    "newString = ''.join(myList)\n",
    "print(newString)"
   ]
  },
  {
   "cell_type": "code",
   "execution_count": 33,
   "id": "c8fe090a",
   "metadata": {},
   "outputs": [
    {
     "name": "stdout",
     "output_type": "stream",
     "text": [
      "['how', 'are', 'you', 'doing']\n",
      "howareyoudoing\n"
     ]
    }
   ],
   "source": [
    "myString = \"how,are,you,doing\"\n",
    "myList = myString.split(\",\")\n",
    "print(myList)\n",
    "newString = ''.join(myList)\n",
    "print(newString)"
   ]
  },
  {
   "cell_type": "code",
   "execution_count": 36,
   "id": "41d27a46",
   "metadata": {},
   "outputs": [
    {
     "name": "stdout",
     "output_type": "stream",
     "text": [
      "['a', 'a', 'a', 'a', 'a', 'a']\n",
      " aaaaaa\n",
      "aaaaaa\n"
     ]
    }
   ],
   "source": [
    "myList = ['a'] * 6\n",
    "print(myList)\n",
    "\n",
    "# bad\n",
    "myString =  ' '\n",
    "for i in myList:\n",
    "    myString += i\n",
    "print(myString)\n",
    "\n",
    "# good\n",
    "myString = ''.join(myList)\n",
    "print(myString)"
   ]
  },
  {
   "cell_type": "code",
   "execution_count": 38,
   "id": "33d2884d",
   "metadata": {},
   "outputs": [
    {
     "name": "stdout",
     "output_type": "stream",
     "text": [
      "['a', 'a', 'a', 'a', 'a', 'a']\n",
      "5.059999966761097e-05\n",
      "2.4500000108673703e-05\n"
     ]
    }
   ],
   "source": [
    "from timeit import default_timer as timer\n",
    "myList = ['a'] * 6\n",
    "print(myList)\n",
    "\n",
    "# bad\n",
    "start = timer()\n",
    "myString =  ' '\n",
    "for i in myList:\n",
    "    myString += i\n",
    "stop = timer()\n",
    "print(stop-start)\n",
    "\n",
    "# good\n",
    "start = timer()\n",
    "myString = ''.join(myList)\n",
    "#print(myString)\n",
    "stop = timer()\n",
    "print(stop-start)"
   ]
  },
  {
   "cell_type": "code",
   "execution_count": 41,
   "id": "4dfb378e",
   "metadata": {},
   "outputs": [
    {
     "name": "stdout",
     "output_type": "stream",
     "text": [
      "13.693701099999998\n",
      "0.0033104000003731926\n"
     ]
    }
   ],
   "source": [
    "from timeit import default_timer as timer\n",
    "myList = ['a'] * 1000000\n",
    "\n",
    "# bad\n",
    "start = timer()\n",
    "myString =  ' '\n",
    "for i in myList:\n",
    "    myString += i\n",
    "stop = timer()\n",
    "print(stop-start)\n",
    "\n",
    "# good\n",
    "start = timer()\n",
    "myString = ''.join(myList)\n",
    "#print(myString)\n",
    "stop = timer()\n",
    "print(stop-start)"
   ]
  },
  {
   "cell_type": "code",
   "execution_count": 42,
   "id": "e8c7bcc9",
   "metadata": {},
   "outputs": [
    {
     "name": "stdout",
     "output_type": "stream",
     "text": [
      "the variable is Tom\n"
     ]
    }
   ],
   "source": [
    "var = \"Tom\"\n",
    "myString = \"the variable is %s\" % var\n",
    "print(myString)"
   ]
  },
  {
   "cell_type": "code",
   "execution_count": 43,
   "id": "e7e33eac",
   "metadata": {},
   "outputs": [
    {
     "name": "stdout",
     "output_type": "stream",
     "text": [
      "the variable is 3\n"
     ]
    }
   ],
   "source": [
    "var = 3\n",
    "myString = \"the variable is %d\" % var\n",
    "print(myString)"
   ]
  },
  {
   "cell_type": "code",
   "execution_count": 44,
   "id": "34fb90ba",
   "metadata": {},
   "outputs": [
    {
     "name": "stdout",
     "output_type": "stream",
     "text": [
      "the variable is 3.124587\n"
     ]
    }
   ],
   "source": [
    "var = 3.124587\n",
    "myString = \"the variable is %f\" % var\n",
    "print(myString)"
   ]
  },
  {
   "cell_type": "code",
   "execution_count": 45,
   "id": "d8b7a7f4",
   "metadata": {},
   "outputs": [
    {
     "name": "stdout",
     "output_type": "stream",
     "text": [
      "the variable is 3.12\n"
     ]
    }
   ],
   "source": [
    "var = 3.124587\n",
    "myString = \"the variable is %.2f\" % var\n",
    "print(myString)"
   ]
  },
  {
   "cell_type": "code",
   "execution_count": 46,
   "id": "b5df1fa5",
   "metadata": {},
   "outputs": [
    {
     "name": "stdout",
     "output_type": "stream",
     "text": [
      "the variable is 3.124587\n"
     ]
    }
   ],
   "source": [
    "var = 3.124587\n",
    "myString = \"the variable is {}\".format(var)\n",
    "print(myString)"
   ]
  },
  {
   "cell_type": "code",
   "execution_count": 47,
   "id": "728228bc",
   "metadata": {},
   "outputs": [
    {
     "name": "stdout",
     "output_type": "stream",
     "text": [
      "the variable is 3.12\n"
     ]
    }
   ],
   "source": [
    "var = 3.124587\n",
    "myString = \"the variable is {:.2f}\".format(var)\n",
    "print(myString)"
   ]
  },
  {
   "cell_type": "code",
   "execution_count": 48,
   "id": "bf5eeef6",
   "metadata": {},
   "outputs": [
    {
     "name": "stdout",
     "output_type": "stream",
     "text": [
      "the variable is 3.12 and 6\n"
     ]
    }
   ],
   "source": [
    "var = 3.124587\n",
    "var2 = 6\n",
    "myString = \"the variable is {:.2f} and {}\".format(var,var2)\n",
    "print(myString)"
   ]
  },
  {
   "cell_type": "code",
   "execution_count": 49,
   "id": "b26b76b9",
   "metadata": {},
   "outputs": [
    {
     "name": "stdout",
     "output_type": "stream",
     "text": [
      "the variable is 3.124587 and 6\n"
     ]
    }
   ],
   "source": [
    "var = 3.124587\n",
    "var2 = 6\n",
    "myString = f\"the variable is {var} and {var2}\"\n",
    "print(myString)"
   ]
  }
 ],
 "metadata": {
  "kernelspec": {
   "display_name": "Python 3",
   "language": "python",
   "name": "python3"
  },
  "language_info": {
   "codemirror_mode": {
    "name": "ipython",
    "version": 3
   },
   "file_extension": ".py",
   "mimetype": "text/x-python",
   "name": "python",
   "nbconvert_exporter": "python",
   "pygments_lexer": "ipython3",
   "version": "3.12.10"
  }
 },
 "nbformat": 4,
 "nbformat_minor": 5
}
