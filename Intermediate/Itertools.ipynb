{
 "cells": [
  {
   "cell_type": "code",
   "execution_count": 2,
   "id": "fcd12099",
   "metadata": {},
   "outputs": [
    {
     "name": "stdout",
     "output_type": "stream",
     "text": [
      "[(1, 3), (1, 4), (2, 3), (2, 4)]\n"
     ]
    }
   ],
   "source": [
    "# itertools : product, permutations, combinations, accumulate, groupby, and infinite iterators\n",
    "\n",
    "from itertools import product\n",
    "a = [1, 2]\n",
    "b = [3, 4]\n",
    "prod = product(a,b)\n",
    "print(list(prod))"
   ]
  },
  {
   "cell_type": "code",
   "execution_count": 3,
   "id": "69eee36c",
   "metadata": {},
   "outputs": [
    {
     "name": "stdout",
     "output_type": "stream",
     "text": [
      "[(1, 3, 1, 3), (1, 3, 1, 4), (1, 3, 2, 3), (1, 3, 2, 4), (1, 4, 1, 3), (1, 4, 1, 4), (1, 4, 2, 3), (1, 4, 2, 4), (2, 3, 1, 3), (2, 3, 1, 4), (2, 3, 2, 3), (2, 3, 2, 4), (2, 4, 1, 3), (2, 4, 1, 4), (2, 4, 2, 3), (2, 4, 2, 4)]\n"
     ]
    }
   ],
   "source": [
    "prod = product(a,b, repeat=2)\n",
    "print(list(prod))"
   ]
  },
  {
   "cell_type": "code",
   "execution_count": 4,
   "id": "a0e58c41",
   "metadata": {},
   "outputs": [
    {
     "name": "stdout",
     "output_type": "stream",
     "text": [
      "[(1, 2, 3), (1, 3, 2), (2, 1, 3), (2, 3, 1), (3, 1, 2), (3, 2, 1)]\n"
     ]
    }
   ],
   "source": [
    "from itertools import permutations\n",
    "a = [1, 2, 3]\n",
    "perm = permutations(a)\n",
    "print(list(perm))"
   ]
  },
  {
   "cell_type": "code",
   "execution_count": 5,
   "id": "6dfd282a",
   "metadata": {},
   "outputs": [
    {
     "name": "stdout",
     "output_type": "stream",
     "text": [
      "[(1, 2), (1, 3), (2, 1), (2, 3), (3, 1), (3, 2)]\n"
     ]
    }
   ],
   "source": [
    "from itertools import permutations\n",
    "a = [1, 2, 3]\n",
    "perm = permutations(a, 2)\n",
    "print(list(perm))"
   ]
  },
  {
   "cell_type": "code",
   "execution_count": 6,
   "id": "3e0ce0f7",
   "metadata": {},
   "outputs": [
    {
     "name": "stdout",
     "output_type": "stream",
     "text": [
      "[(1, 2), (1, 3), (1, 4), (2, 3), (2, 4), (3, 4)]\n"
     ]
    }
   ],
   "source": [
    "from itertools import combinations\n",
    "a = [1, 2, 3, 4]\n",
    "comb = combinations(a, 2)\n",
    "print(list(comb))"
   ]
  },
  {
   "cell_type": "code",
   "execution_count": 7,
   "id": "2c190902",
   "metadata": {},
   "outputs": [
    {
     "name": "stdout",
     "output_type": "stream",
     "text": [
      "[(1, 2), (1, 3), (1, 4), (2, 3), (2, 4), (3, 4)]\n",
      "[(1, 1), (1, 2), (1, 3), (1, 4), (2, 2), (2, 3), (2, 4), (3, 3), (3, 4), (4, 4)]\n"
     ]
    }
   ],
   "source": [
    "from itertools import combinations, combinations_with_replacement\n",
    "a = [1, 2, 3, 4]\n",
    "comb = combinations(a, 2)\n",
    "print(list(comb))\n",
    "comb_wr = combinations_with_replacement(a, 2)\n",
    "print(list(comb_wr))"
   ]
  },
  {
   "cell_type": "code",
   "execution_count": 8,
   "id": "75c5d36d",
   "metadata": {},
   "outputs": [
    {
     "name": "stdout",
     "output_type": "stream",
     "text": [
      "[1, 2, 3, 4]\n",
      "[1, 3, 6, 10]\n"
     ]
    }
   ],
   "source": [
    "from itertools import accumulate\n",
    "a = [1, 2, 3, 4]\n",
    "acc = accumulate(a)\n",
    "print(a)\n",
    "print(list(acc))"
   ]
  },
  {
   "cell_type": "code",
   "execution_count": 9,
   "id": "f14eee0a",
   "metadata": {},
   "outputs": [
    {
     "name": "stdout",
     "output_type": "stream",
     "text": [
      "[1, 2, 3, 4]\n",
      "[1, 2, 6, 24]\n"
     ]
    }
   ],
   "source": [
    "from itertools import accumulate\n",
    "import operator\n",
    "a = [1, 2, 3, 4]\n",
    "acc = accumulate(a, func=operator.mul)\n",
    "print(a)\n",
    "print(list(acc))"
   ]
  },
  {
   "cell_type": "code",
   "execution_count": 11,
   "id": "2d9d38a4",
   "metadata": {},
   "outputs": [
    {
     "name": "stdout",
     "output_type": "stream",
     "text": [
      "[1, 2, 5, 3, 4]\n",
      "[1, 2, 5, 5, 5]\n"
     ]
    }
   ],
   "source": [
    "from itertools import accumulate\n",
    "import operator\n",
    "a = [1, 2, 5, 3, 4]\n",
    "acc = accumulate(a, func=max)\n",
    "print(a)\n",
    "print(list(acc))"
   ]
  },
  {
   "cell_type": "code",
   "execution_count": 12,
   "id": "e4b964d8",
   "metadata": {},
   "outputs": [
    {
     "name": "stdout",
     "output_type": "stream",
     "text": [
      "True [1, 2]\n",
      "False [3, 4]\n"
     ]
    }
   ],
   "source": [
    "from itertools import groupby\n",
    "\n",
    "def smallerThan3(x):\n",
    "    return x<3\n",
    "\n",
    "a = [1, 2, 3, 4]\n",
    "groupbyObj = groupby(a, key=smallerThan3)\n",
    "for key, value in groupbyObj:\n",
    "    print(key, list(value))"
   ]
  },
  {
   "cell_type": "code",
   "execution_count": 13,
   "id": "f68c9ee8",
   "metadata": {},
   "outputs": [
    {
     "name": "stdout",
     "output_type": "stream",
     "text": [
      "25 [{'name': 'Tim', 'age': 25}, {'name': 'Dan', 'age': 25}]\n",
      "27 [{'name': 'Lisa', 'age': 27}]\n",
      "28 [{'name': 'Claire', 'age': 28}]\n"
     ]
    }
   ],
   "source": [
    "from itertools import groupby\n",
    "\n",
    "persons = [{'name':'Tim', 'age':25},\n",
    "           {'name':'Dan', 'age':25},\n",
    "           {'name':'Lisa', 'age':27},\n",
    "           {'name':'Claire', 'age':28}]\n",
    "\n",
    "groupbyObj = groupby(persons, key=lambda x: x['age'])\n",
    "for key, value in groupbyObj:\n",
    "    print(key, list(value))"
   ]
  }
 ],
 "metadata": {
  "kernelspec": {
   "display_name": "Python 3",
   "language": "python",
   "name": "python3"
  },
  "language_info": {
   "codemirror_mode": {
    "name": "ipython",
    "version": 3
   },
   "file_extension": ".py",
   "mimetype": "text/x-python",
   "name": "python",
   "nbconvert_exporter": "python",
   "pygments_lexer": "ipython3",
   "version": "3.12.10"
  }
 },
 "nbformat": 4,
 "nbformat_minor": 5
}
