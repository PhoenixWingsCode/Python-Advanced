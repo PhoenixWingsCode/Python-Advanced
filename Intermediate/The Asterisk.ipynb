{
 "cells": [
  {
   "cell_type": "code",
   "execution_count": 1,
   "id": "01452543",
   "metadata": {},
   "outputs": [
    {
     "name": "stdout",
     "output_type": "stream",
     "text": [
      "35\n",
      "16\n"
     ]
    }
   ],
   "source": [
    "#Multiplication and power operations\n",
    "# multiplication\n",
    "result = 7 * 5\n",
    "print(result)\n",
    "\n",
    "# power operation\n",
    "result = 2 ** 4\n",
    "print(result)"
   ]
  },
  {
   "cell_type": "code",
   "execution_count": 2,
   "id": "801c8744",
   "metadata": {},
   "outputs": [
    {
     "name": "stdout",
     "output_type": "stream",
     "text": [
      "[0, 0, 0, 0, 0, 0, 0, 0, 0, 0]\n",
      "[1, 2, 1, 2, 1, 2, 1, 2, 1, 2]\n",
      "(0, 0, 0, 0, 0, 0, 0, 0, 0, 0)\n",
      "(1, 2, 1, 2, 1, 2, 1, 2, 1, 2)\n",
      "AAAAAAAAAA\n",
      "ABABABABAB\n"
     ]
    }
   ],
   "source": [
    "#Creation of list, tuple, or string with repeated elements\n",
    "# list\n",
    "zeros = [0] * 10\n",
    "onetwos = [1, 2] * 5\n",
    "print(zeros)\n",
    "print(onetwos)\n",
    "\n",
    "# tuple\n",
    "zeros = (0,) * 10\n",
    "onetwos = (1, 2) * 5\n",
    "print(zeros)\n",
    "print(onetwos)\n",
    "\n",
    "# string\n",
    "A_string = \"A\" * 10\n",
    "AB_string = \"AB\" * 5\n",
    "print(A_string)\n",
    "print(AB_string)"
   ]
  },
  {
   "cell_type": "code",
   "execution_count": 3,
   "id": "7d48fc26",
   "metadata": {},
   "outputs": [
    {
     "name": "stdout",
     "output_type": "stream",
     "text": [
      "Hey\n",
      "3\n",
      "[0, 1, 2]\n",
      "name Alex\n",
      "age 8\n",
      "Michael\n",
      "5\n"
     ]
    }
   ],
   "source": [
    "#*args , **kwargs , and keyword-only arguments\n",
    "def my_function(*args, **kwargs):\n",
    "    for arg in args:\n",
    "        print(arg)\n",
    "    for key in kwargs:\n",
    "        print(key, kwargs[key])\n",
    "        \n",
    "my_function(\"Hey\", 3, [0, 1, 2], name=\"Alex\", age=8)\n",
    "\n",
    "# Parameters after '*' or '*identifier' are keyword-only parameters and may only be passed using keyword arguments.\n",
    "def my_function2(name, *, age):\n",
    "    print(name)\n",
    "    print(age)\n",
    "\n",
    "# my_function2(\"Michael\", 5) --> this would raise a TypeError\n",
    "my_function2(\"Michael\", age=5)"
   ]
  },
  {
   "cell_type": "code",
   "execution_count": 4,
   "id": "f0f70d93",
   "metadata": {},
   "outputs": [
    {
     "name": "stdout",
     "output_type": "stream",
     "text": [
      "1 2 3\n",
      "A B C\n",
      "4 5 6\n"
     ]
    }
   ],
   "source": [
    "#Unpacking for function arguments\n",
    "def foo(a, b, c):\n",
    "    print(a, b, c)\n",
    "\n",
    "# length must match\n",
    "my_list = [1, 2, 3]\n",
    "foo(*my_list)\n",
    "\n",
    "my_string = \"ABC\"\n",
    "foo(*my_string)\n",
    "\n",
    "# length and keys must match\n",
    "my_dict = {'a': 4, 'b': 5, 'c': 6}\n",
    "foo(**my_dict)"
   ]
  },
  {
   "cell_type": "code",
   "execution_count": 5,
   "id": "676efe71",
   "metadata": {},
   "outputs": [
    {
     "name": "stdout",
     "output_type": "stream",
     "text": [
      "[1, 2, 3, 4, 5, 6, 7]\n",
      "8\n",
      "\n",
      "1\n",
      "[2, 3, 4, 5, 6, 7, 8]\n",
      "\n",
      "1\n",
      "[2, 3, 4, 5, 6, 7]\n",
      "8\n"
     ]
    }
   ],
   "source": [
    "#Unpacking containers\n",
    "numbers = (1, 2, 3, 4, 5, 6, 7, 8)\n",
    "\n",
    "*beginning, last = numbers\n",
    "print(beginning)\n",
    "print(last)\n",
    "\n",
    "print()\n",
    "\n",
    "first, *end = numbers\n",
    "print(first)\n",
    "print(end)\n",
    "\n",
    "print()\n",
    "first, *middle, last = numbers\n",
    "print(first)\n",
    "print(middle)\n",
    "print(last)"
   ]
  },
  {
   "cell_type": "code",
   "execution_count": 6,
   "id": "ea84593a",
   "metadata": {},
   "outputs": [
    {
     "name": "stdout",
     "output_type": "stream",
     "text": [
      "[1, 2, 3, 4, 5, 6]\n",
      "{'one': 1, 'two': 2, 'three': 3, 'four': 4}\n"
     ]
    }
   ],
   "source": [
    "#Merge iterables into a list / Merge dictionaries\n",
    "# dump iterables into a list and merge them\n",
    "my_tuple = (1, 2, 3)\n",
    "my_set = {4, 5, 6}\n",
    "my_list = [*my_tuple, *my_set]\n",
    "print(my_list)\n",
    "\n",
    "# merge two dictionaries with dict unpacking\n",
    "dict_a = {'one': 1, 'two': 2}\n",
    "dict_b = {'three': 3, 'four': 4}\n",
    "dict_c = {**dict_a, **dict_b}\n",
    "print(dict_c)"
   ]
  }
 ],
 "metadata": {
  "kernelspec": {
   "display_name": "Python 3",
   "language": "python",
   "name": "python3"
  },
  "language_info": {
   "codemirror_mode": {
    "name": "ipython",
    "version": 3
   },
   "file_extension": ".py",
   "mimetype": "text/x-python",
   "name": "python",
   "nbconvert_exporter": "python",
   "pygments_lexer": "ipython3",
   "version": "3.12.10"
  }
 },
 "nbformat": 4,
 "nbformat_minor": 5
}
