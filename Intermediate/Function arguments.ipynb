{
 "cells": [
  {
   "cell_type": "code",
   "execution_count": 1,
   "id": "daeb32ab",
   "metadata": {},
   "outputs": [
    {
     "name": "stdout",
     "output_type": "stream",
     "text": [
      "Alex\n"
     ]
    }
   ],
   "source": [
    "# Arguments and parameters\n",
    "def print_name(name): # name is the parameter\n",
    "    print(name)\n",
    "\n",
    "print_name('Alex') # 'Alex' is the argument"
   ]
  },
  {
   "cell_type": "code",
   "execution_count": 2,
   "id": "aeb15c4d",
   "metadata": {},
   "outputs": [
    {
     "name": "stdout",
     "output_type": "stream",
     "text": [
      "1 2 3\n",
      "1 2 3\n",
      "1 2 3\n",
      "1 2 3\n"
     ]
    }
   ],
   "source": [
    "#Positional and keyword arguments\n",
    "def foo(a, b, c):\n",
    "    print(a, b, c)\n",
    "    \n",
    "# positional arguments\n",
    "foo(1, 2, 3)\n",
    "\n",
    "# keyword arguments\n",
    "foo(a=1, b=2, c=3)\n",
    "foo(c=3, b=2, a=1) # Note that the order is not important here\n",
    "\n",
    "# mix of both\n",
    "foo(1, b=2, c=3)\n",
    "\n",
    "# This is not allowed:\n",
    "# foo(1, b=2, 3) # positional argument after keyword argument\n",
    "# foo(1, b=2, a=3) # multiple values for argument 'a'"
   ]
  },
  {
   "cell_type": "code",
   "execution_count": 3,
   "id": "12f5beb1",
   "metadata": {},
   "outputs": [
    {
     "name": "stdout",
     "output_type": "stream",
     "text": [
      "1 2 3 4\n",
      "1 2 3 100\n"
     ]
    }
   ],
   "source": [
    "#Default arguments\n",
    "# default arguments\n",
    "def foo(a, b, c, d=4):\n",
    "    print(a, b, c, d)\n",
    "\n",
    "foo(1, 2, 3, 4)\n",
    "foo(1, b=2, c=3, d=100)\n",
    "\n",
    "# not allowed: default arguments must be at the end\n",
    "# def foo(a, b=2, c, d=4):\n",
    "#     print(a, b, c, d)"
   ]
  },
  {
   "cell_type": "code",
   "execution_count": 4,
   "id": "00a5d09f",
   "metadata": {},
   "outputs": [
    {
     "name": "stdout",
     "output_type": "stream",
     "text": [
      "1 2\n",
      "3\n",
      "4\n",
      "5\n",
      "six 6\n",
      "seven 7\n",
      "\n",
      "1 2\n",
      "three 3\n"
     ]
    }
   ],
   "source": [
    "#Variable-length arguments (*args and **kwargs)\n",
    "def foo(a, b, *args, **kwargs):\n",
    "    print(a, b)\n",
    "    for arg in args:\n",
    "        print(arg)\n",
    "    for kwarg in kwargs:\n",
    "        print(kwarg, kwargs[kwarg])\n",
    "\n",
    "# 3, 4, 5 are combined into args\n",
    "# six and seven are combined into kwargs\n",
    "foo(1, 2, 3, 4, 5, six=6, seven=7)\n",
    "print()\n",
    "\n",
    "# omitting of args or kwargs is also possible\n",
    "foo(1, 2, three=3)"
   ]
  },
  {
   "cell_type": "code",
   "execution_count": 5,
   "id": "8af99ac4",
   "metadata": {},
   "outputs": [
    {
     "name": "stdout",
     "output_type": "stream",
     "text": [
      "1 2 3 4\n",
      "8\n",
      "9\n",
      "10\n",
      "50\n"
     ]
    }
   ],
   "source": [
    "#Forced keyword arguments\n",
    "def foo(a, b, *, c, d):\n",
    "    print(a, b, c, d)\n",
    "\n",
    "foo(1, 2, c=3, d=4)\n",
    "# not allowed:\n",
    "# foo(1, 2, 3, 4)\n",
    "\n",
    "# arguments after variable-length arguments must be keyword arguments\n",
    "def foo(*args, last):\n",
    "    for arg in args:\n",
    "        print(arg)\n",
    "    print(last)\n",
    "\n",
    "foo(8, 9, 10, last=50)"
   ]
  },
  {
   "cell_type": "code",
   "execution_count": 6,
   "id": "6c152946",
   "metadata": {},
   "outputs": [
    {
     "name": "stdout",
     "output_type": "stream",
     "text": [
      "4 5 6\n",
      "1 2 3\n"
     ]
    }
   ],
   "source": [
    "#Unpacking into agruments\n",
    "def foo(a, b, c):\n",
    "    print(a, b, c)\n",
    "\n",
    "\n",
    "# list/tuple unpacking, length must match\n",
    "my_list = [4, 5, 6] # or tuple\n",
    "foo(*my_list)\n",
    "\n",
    "# dict unpacking, keys and length must match\n",
    "my_dict = {'a': 1, 'b': 2, 'c': 3}\n",
    "foo(**my_dict)\n",
    "\n",
    "# my_dict = {'a': 1, 'b': 2, 'd': 3} # not possible since wrong keyword"
   ]
  },
  {
   "cell_type": "code",
   "execution_count": 7,
   "id": "5a838096",
   "metadata": {},
   "outputs": [
    {
     "name": "stdout",
     "output_type": "stream",
     "text": [
      "number in function: 0\n",
      "number before foo2():  0\n",
      "number after foo2():  3\n"
     ]
    }
   ],
   "source": [
    "#Local vs global variables\n",
    "def foo1():\n",
    "    x = number # global variable can only be accessed here\n",
    "    print('number in function:', x)\n",
    "\n",
    "number = 0\n",
    "foo1()\n",
    "\n",
    "# modifying the global variable\n",
    "def foo2():\n",
    "    global number # global variable can now be accessed and modified\n",
    "    number = 3\n",
    "\n",
    "print('number before foo2(): ', number)\n",
    "foo2() # modifies the global variable\n",
    "print('number after foo2(): ', number)"
   ]
  },
  {
   "cell_type": "code",
   "execution_count": 8,
   "id": "fa2ee21e",
   "metadata": {},
   "outputs": [
    {
     "name": "stdout",
     "output_type": "stream",
     "text": [
      "number before foo3():  0\n",
      "number after foo3():  0\n"
     ]
    }
   ],
   "source": [
    "number = 0\n",
    "\n",
    "def foo3():\n",
    "    number = 3 # this is a local variable\n",
    "\n",
    "print('number before foo3(): ', number)\n",
    "foo3() # does not modify the global variable\n",
    "print('number after foo3(): ', number)"
   ]
  },
  {
   "cell_type": "code",
   "execution_count": 9,
   "id": "c3c13c2b",
   "metadata": {},
   "outputs": [
    {
     "name": "stdout",
     "output_type": "stream",
     "text": [
      "var before foo(): 10\n",
      "var after foo(): 10\n"
     ]
    }
   ],
   "source": [
    "#Parameter passing\n",
    "# immutable objects -> no change\n",
    "def foo(x):\n",
    "    x = 5 # x += 5 also no effect since x is immutable and a new variable must be created\n",
    "\n",
    "var = 10\n",
    "print('var before foo():', var)\n",
    "foo(var)\n",
    "print('var after foo():', var)"
   ]
  },
  {
   "cell_type": "code",
   "execution_count": 10,
   "id": "24a43717",
   "metadata": {},
   "outputs": [
    {
     "name": "stdout",
     "output_type": "stream",
     "text": [
      "my_list before foo(): [1, 2, 3]\n",
      "my_list after foo(): [1, 2, 3, 4]\n"
     ]
    }
   ],
   "source": [
    "# mutable objects -> change\n",
    "def foo(a_list):\n",
    "    a_list.append(4)\n",
    "    \n",
    "my_list = [1, 2, 3]\n",
    "print('my_list before foo():', my_list)\n",
    "foo(my_list)\n",
    "print('my_list after foo():', my_list)"
   ]
  },
  {
   "cell_type": "code",
   "execution_count": 11,
   "id": "6586cadc",
   "metadata": {},
   "outputs": [
    {
     "name": "stdout",
     "output_type": "stream",
     "text": [
      "my_list before foo(): [1, 2, 'Max']\n",
      "my_list after foo(): [-100, 2, 'Paul']\n"
     ]
    }
   ],
   "source": [
    "# immutable objects within a mutable object -> change\n",
    "def foo(a_list):\n",
    "    a_list[0] = -100\n",
    "    a_list[2] = \"Paul\"\n",
    "    \n",
    "my_list = [1, 2, \"Max\"]\n",
    "print('my_list before foo():', my_list)\n",
    "foo(my_list)\n",
    "print('my_list after foo():', my_list)"
   ]
  },
  {
   "cell_type": "code",
   "execution_count": 12,
   "id": "4795f6cb",
   "metadata": {},
   "outputs": [
    {
     "name": "stdout",
     "output_type": "stream",
     "text": [
      "my_list before foo(): [1, 2, 3]\n",
      "my_list after foo(): [1, 2, 3]\n"
     ]
    }
   ],
   "source": [
    "# Rebind a mutable reference -> no change\n",
    "def foo(a_list):\n",
    "    a_list = [50, 60, 70] # a_list is now a new local variable within the function\n",
    "    a_list.append(50)\n",
    "    \n",
    "my_list = [1, 2, 3]\n",
    "print('my_list before foo():', my_list)\n",
    "foo(my_list)\n",
    "print('my_list after foo():', my_list)"
   ]
  },
  {
   "cell_type": "code",
   "execution_count": 13,
   "id": "7c1639e7",
   "metadata": {},
   "outputs": [
    {
     "name": "stdout",
     "output_type": "stream",
     "text": [
      "my_list before foo(): [1, 2, 3]\n",
      "my_list after foo(): [1, 2, 3, 4, 5]\n",
      "my_list before bar(): [1, 2, 3]\n",
      "my_list after bar(): [1, 2, 3]\n"
     ]
    }
   ],
   "source": [
    "# another example with rebinding references:\n",
    "def foo(a_list):\n",
    "    a_list += [4, 5] # this chanches the outer variable\n",
    "    \n",
    "def bar(a_list):\n",
    "    a_list = a_list + [4, 5] # this rebinds the reference to a new local variable\n",
    "\n",
    "my_list = [1, 2, 3]\n",
    "print('my_list before foo():', my_list)\n",
    "foo(my_list)\n",
    "print('my_list after foo():', my_list)\n",
    "\n",
    "my_list = [1, 2, 3]\n",
    "print('my_list before bar():', my_list)\n",
    "bar(my_list)\n",
    "print('my_list after bar():', my_list)"
   ]
  }
 ],
 "metadata": {
  "kernelspec": {
   "display_name": "Python 3",
   "language": "python",
   "name": "python3"
  },
  "language_info": {
   "codemirror_mode": {
    "name": "ipython",
    "version": 3
   },
   "file_extension": ".py",
   "mimetype": "text/x-python",
   "name": "python",
   "nbconvert_exporter": "python",
   "pygments_lexer": "ipython3",
   "version": "3.12.10"
  }
 },
 "nbformat": 4,
 "nbformat_minor": 5
}
