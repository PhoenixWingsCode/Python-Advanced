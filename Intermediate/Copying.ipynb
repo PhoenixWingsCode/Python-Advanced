{
 "cells": [
  {
   "cell_type": "code",
   "execution_count": 1,
   "id": "ab6fac8f",
   "metadata": {},
   "outputs": [
    {
     "name": "stdout",
     "output_type": "stream",
     "text": [
      "[-10, 2, 3, 4, 5]\n",
      "[-10, 2, 3, 4, 5]\n"
     ]
    }
   ],
   "source": [
    "#Shallow vs deep copying\n",
    "#Assignment operation\n",
    "list_a = [1, 2, 3, 4, 5]\n",
    "list_b = list_a\n",
    "\n",
    "list_a[0] = -10\n",
    "print(list_a)\n",
    "print(list_b)"
   ]
  },
  {
   "cell_type": "code",
   "execution_count": 2,
   "id": "aefa1de3",
   "metadata": {},
   "outputs": [
    {
     "name": "stdout",
     "output_type": "stream",
     "text": [
      "[1, 2, 3, 4, 5]\n",
      "[-10, 2, 3, 4, 5]\n"
     ]
    }
   ],
   "source": [
    "#Shallow copy\n",
    "import copy\n",
    "list_a = [1, 2, 3, 4, 5]\n",
    "list_b = copy.copy(list_a)\n",
    "\n",
    "# not affects the other list\n",
    "list_b[0] = -10\n",
    "print(list_a)\n",
    "print(list_b)"
   ]
  },
  {
   "cell_type": "code",
   "execution_count": 3,
   "id": "18e1a28a",
   "metadata": {},
   "outputs": [
    {
     "name": "stdout",
     "output_type": "stream",
     "text": [
      "[[-10, 2, 3, 4, 5], [6, 7, 8, 9, 10]]\n",
      "[[-10, 2, 3, 4, 5], [6, 7, 8, 9, 10]]\n"
     ]
    }
   ],
   "source": [
    "import copy\n",
    "list_a = [[1, 2, 3, 4, 5], [6, 7, 8, 9, 10]]\n",
    "list_b = copy.copy(list_a)\n",
    "\n",
    "# affects the other!\n",
    "list_a[0][0]= -10\n",
    "print(list_a)\n",
    "print(list_b)"
   ]
  },
  {
   "cell_type": "code",
   "execution_count": 4,
   "id": "54ea4119",
   "metadata": {},
   "outputs": [],
   "source": [
    "# shallow copies\n",
    "list_b = list(list_a)\n",
    "list_b = list_a[:]\n",
    "list_b = list_a.copy()"
   ]
  },
  {
   "cell_type": "code",
   "execution_count": 5,
   "id": "ef957677",
   "metadata": {},
   "outputs": [
    {
     "name": "stdout",
     "output_type": "stream",
     "text": [
      "[[-10, 2, 3, 4, 5], [6, 7, 8, 9, 10]]\n",
      "[[1, 2, 3, 4, 5], [6, 7, 8, 9, 10]]\n"
     ]
    }
   ],
   "source": [
    "#Deep copies\n",
    "import copy\n",
    "list_a = [[1, 2, 3, 4, 5], [6, 7, 8, 9, 10]]\n",
    "list_b = copy.deepcopy(list_a)\n",
    "\n",
    "# not affects the other\n",
    "list_a[0][0]= -10\n",
    "print(list_a)\n",
    "print(list_b)"
   ]
  },
  {
   "cell_type": "code",
   "execution_count": 6,
   "id": "9de560c8",
   "metadata": {},
   "outputs": [
    {
     "name": "stdout",
     "output_type": "stream",
     "text": [
      "28\n",
      "28\n"
     ]
    }
   ],
   "source": [
    "#Custom objects\n",
    "class Person:\n",
    "    def __init__(self, name, age):\n",
    "        self.name = name\n",
    "        self.age = age\n",
    "                \n",
    "# Only copies the reference\n",
    "p1 = Person('Alex', 27)\n",
    "p2 = p1\n",
    "p2.age = 28\n",
    "print(p1.age)\n",
    "print(p2.age)"
   ]
  },
  {
   "cell_type": "code",
   "execution_count": 7,
   "id": "73983b5a",
   "metadata": {},
   "outputs": [
    {
     "name": "stdout",
     "output_type": "stream",
     "text": [
      "27\n",
      "28\n"
     ]
    }
   ],
   "source": [
    "# shallow copy\n",
    "import copy\n",
    "p1 = Person('Alex', 27)\n",
    "p2 = copy.copy(p1)\n",
    "p2.age = 28\n",
    "print(p1.age)\n",
    "print(p2.age)"
   ]
  },
  {
   "cell_type": "code",
   "execution_count": 8,
   "id": "bba10334",
   "metadata": {},
   "outputs": [
    {
     "name": "stdout",
     "output_type": "stream",
     "text": [
      "56\n",
      "56\n",
      "\n",
      "55\n",
      "56\n"
     ]
    }
   ],
   "source": [
    "class Company:\n",
    "    def __init__(self, boss, employee):\n",
    "        self. boss = boss\n",
    "        self.employee = employee\n",
    "\n",
    "# shallow copy will affect nested objects\n",
    "boss = Person('Jane', 55)\n",
    "employee = Person('Joe', 28)\n",
    "company = Company(boss, employee)\n",
    "\n",
    "company_clone = copy.copy(company)\n",
    "company_clone.boss.age = 56\n",
    "print(company.boss.age)\n",
    "print(company_clone.boss.age)\n",
    "\n",
    "print()\n",
    "# deep copy will not affect nested objects\n",
    "boss = Person('Jane', 55)\n",
    "employee = Person('Joe', 28)\n",
    "company = Company(boss, employee)\n",
    "company_clone = copy.deepcopy(company)\n",
    "company_clone.boss.age = 56\n",
    "print(company.boss.age)\n",
    "print(company_clone.boss.age)"
   ]
  }
 ],
 "metadata": {
  "kernelspec": {
   "display_name": "Python 3",
   "language": "python",
   "name": "python3"
  },
  "language_info": {
   "codemirror_mode": {
    "name": "ipython",
    "version": 3
   },
   "file_extension": ".py",
   "mimetype": "text/x-python",
   "name": "python",
   "nbconvert_exporter": "python",
   "pygments_lexer": "ipython3",
   "version": "3.12.10"
  }
 },
 "nbformat": 4,
 "nbformat_minor": 5
}
