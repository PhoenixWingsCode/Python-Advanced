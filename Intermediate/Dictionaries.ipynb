{
 "cells": [
  {
   "cell_type": "code",
   "execution_count": 1,
   "id": "b851d29b",
   "metadata": {},
   "outputs": [
    {
     "name": "stdout",
     "output_type": "stream",
     "text": [
      "{'name': 'Max', 'age': 28, 'city': 'New York'}\n"
     ]
    }
   ],
   "source": [
    "# Dictionary : Key-value pairs, Unordered, Mutable\n",
    "\n",
    "mydict = {\"name\" : \"Max\", \"age\" : 28, \"city\" : \"New York\"}\n",
    "print(mydict)"
   ]
  },
  {
   "cell_type": "code",
   "execution_count": 2,
   "id": "e3c2eb3e",
   "metadata": {},
   "outputs": [
    {
     "name": "stdout",
     "output_type": "stream",
     "text": [
      "{'name': 'Mary', 'age': 27, 'city': 'Boston'}\n"
     ]
    }
   ],
   "source": [
    "mydict2 = dict(name=\"Mary\", age=27, city=\"Boston\")\n",
    "print(mydict2)"
   ]
  },
  {
   "cell_type": "code",
   "execution_count": 3,
   "id": "eacbb7a3",
   "metadata": {},
   "outputs": [
    {
     "name": "stdout",
     "output_type": "stream",
     "text": [
      "28\n"
     ]
    }
   ],
   "source": [
    "value = mydict[\"age\"]\n",
    "print(value)"
   ]
  },
  {
   "cell_type": "code",
   "execution_count": 4,
   "id": "3cb7885c",
   "metadata": {},
   "outputs": [
    {
     "name": "stdout",
     "output_type": "stream",
     "text": [
      "{'name': 'Max', 'age': 28, 'city': 'New York', 'email': 'max@xyz.com'}\n"
     ]
    }
   ],
   "source": [
    "mydict[\"email\"] = \"max@xyz.com\"\n",
    "print(mydict)"
   ]
  },
  {
   "cell_type": "code",
   "execution_count": 5,
   "id": "1ab7053c",
   "metadata": {},
   "outputs": [
    {
     "name": "stdout",
     "output_type": "stream",
     "text": [
      "{'name': 'Max', 'age': 28, 'city': 'New York', 'email': 'coolmax@xyz.com'}\n"
     ]
    }
   ],
   "source": [
    "mydict[\"email\"] = \"coolmax@xyz.com\"\n",
    "print(mydict)"
   ]
  },
  {
   "cell_type": "code",
   "execution_count": 6,
   "id": "7e435277",
   "metadata": {},
   "outputs": [
    {
     "name": "stdout",
     "output_type": "stream",
     "text": [
      "{'age': 28, 'city': 'New York', 'email': 'coolmax@xyz.com'}\n"
     ]
    }
   ],
   "source": [
    "del mydict[\"name\"]\n",
    "print(mydict)"
   ]
  },
  {
   "cell_type": "code",
   "execution_count": 7,
   "id": "4a73f9d4",
   "metadata": {},
   "outputs": [
    {
     "name": "stdout",
     "output_type": "stream",
     "text": [
      "{'city': 'New York', 'email': 'coolmax@xyz.com'}\n"
     ]
    }
   ],
   "source": [
    "mydict.pop(\"age\")\n",
    "print(mydict)"
   ]
  },
  {
   "cell_type": "code",
   "execution_count": 8,
   "id": "b9708581",
   "metadata": {},
   "outputs": [
    {
     "name": "stdout",
     "output_type": "stream",
     "text": [
      "{'city': 'New York'}\n"
     ]
    }
   ],
   "source": [
    "mydict.popitem()\n",
    "print(mydict)"
   ]
  },
  {
   "cell_type": "code",
   "execution_count": 9,
   "id": "6ee15f62",
   "metadata": {},
   "outputs": [
    {
     "name": "stdout",
     "output_type": "stream",
     "text": [
      "Mary\n"
     ]
    }
   ],
   "source": [
    "try:\n",
    "    print(mydict2[\"name\"])\n",
    "except:\n",
    "    print(\"Error\")"
   ]
  },
  {
   "cell_type": "code",
   "execution_count": 10,
   "id": "e82d2a92",
   "metadata": {},
   "outputs": [
    {
     "name": "stdout",
     "output_type": "stream",
     "text": [
      "{'name': 'Max', 'age': 28, 'city': 'New York'}\n",
      "name\n",
      "age\n",
      "city\n"
     ]
    }
   ],
   "source": [
    "mydict = {\"name\" : \"Max\", \"age\" : 28, \"city\" : \"New York\"}\n",
    "print(mydict)\n",
    "\n",
    "for key in mydict.keys():\n",
    "    print(key)"
   ]
  },
  {
   "cell_type": "code",
   "execution_count": 11,
   "id": "7a85a399",
   "metadata": {},
   "outputs": [
    {
     "name": "stdout",
     "output_type": "stream",
     "text": [
      "Max\n",
      "28\n",
      "New York\n"
     ]
    }
   ],
   "source": [
    "for value in mydict.values():\n",
    "    print(value)"
   ]
  },
  {
   "cell_type": "code",
   "execution_count": 12,
   "id": "67a86854",
   "metadata": {},
   "outputs": [
    {
     "name": "stdout",
     "output_type": "stream",
     "text": [
      "name Max\n",
      "age 28\n",
      "city New York\n"
     ]
    }
   ],
   "source": [
    "for key, value in mydict.items():\n",
    "    print(key, value)"
   ]
  },
  {
   "cell_type": "code",
   "execution_count": 13,
   "id": "69ed18e0",
   "metadata": {},
   "outputs": [
    {
     "name": "stdout",
     "output_type": "stream",
     "text": [
      "{'name': 'Max', 'age': 28, 'city': 'New York'}\n",
      "{'name': 'Max', 'age': 28, 'city': 'New York', 'email': 'max@xyz.com'}\n",
      "{'name': 'Max', 'age': 28, 'city': 'New York'}\n"
     ]
    }
   ],
   "source": [
    "mydict = {\"name\" : \"Max\", \"age\" : 28, \"city\" : \"New York\"}\n",
    "print(mydict)\n",
    "\n",
    "mydict_copy = dict(mydict)\n",
    "\n",
    "mydict_copy[\"email\"] = \"max@xyz.com\"\n",
    "print(mydict_copy)\n",
    "print(mydict)"
   ]
  },
  {
   "cell_type": "code",
   "execution_count": 15,
   "id": "f5ba4465",
   "metadata": {},
   "outputs": [
    {
     "name": "stdout",
     "output_type": "stream",
     "text": [
      "{'name': 'Mary', 'age': 27, 'email': 'max@xyz.com', 'city': 'Boston'}\n"
     ]
    }
   ],
   "source": [
    "mydict = {\"name\" : \"Max\", \"age\" : 28, \"email\" : \"max@xyz.com\"}\n",
    "mydict2 = dict(name=\"Mary\", age= 27, city=\"Boston\")\n",
    "\n",
    "mydict.update(mydict2)\n",
    "print(mydict)"
   ]
  },
  {
   "cell_type": "code",
   "execution_count": 17,
   "id": "04118149",
   "metadata": {},
   "outputs": [
    {
     "name": "stdout",
     "output_type": "stream",
     "text": [
      "{3: 9, 6: 36, 9: 81}\n",
      "9\n"
     ]
    }
   ],
   "source": [
    "numdict = {3:9, 6:36, 9:81}\n",
    "print(numdict)\n",
    "\n",
    "value = numdict[3]\n",
    "print(value)"
   ]
  },
  {
   "cell_type": "code",
   "execution_count": 18,
   "id": "b1828e6a",
   "metadata": {},
   "outputs": [
    {
     "name": "stdout",
     "output_type": "stream",
     "text": [
      "{(8, 7): 15}\n"
     ]
    }
   ],
   "source": [
    "mytuple = (8, 7)\n",
    "mydict = {mytuple: 15}\n",
    "\n",
    "print(mydict)"
   ]
  }
 ],
 "metadata": {
  "kernelspec": {
   "display_name": "Python 3",
   "language": "python",
   "name": "python3"
  },
  "language_info": {
   "codemirror_mode": {
    "name": "ipython",
    "version": 3
   },
   "file_extension": ".py",
   "mimetype": "text/x-python",
   "name": "python",
   "nbconvert_exporter": "python",
   "pygments_lexer": "ipython3",
   "version": "3.12.10"
  }
 },
 "nbformat": 4,
 "nbformat_minor": 5
}
