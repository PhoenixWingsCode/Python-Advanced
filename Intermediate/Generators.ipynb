{
 "cells": [
  {
   "cell_type": "code",
   "execution_count": 1,
   "id": "8537ed49",
   "metadata": {},
   "outputs": [
    {
     "name": "stdout",
     "output_type": "stream",
     "text": [
      "Starting\n",
      "3\n",
      "2\n",
      "1\n"
     ]
    },
    {
     "ename": "StopIteration",
     "evalue": "",
     "output_type": "error",
     "traceback": [
      "\u001b[31m---------------------------------------------------------------------------\u001b[39m",
      "\u001b[31mStopIteration\u001b[39m                             Traceback (most recent call last)",
      "\u001b[36mCell\u001b[39m\u001b[36m \u001b[39m\u001b[32mIn[1]\u001b[39m\u001b[32m, line 19\u001b[39m\n\u001b[32m     16\u001b[39m \u001b[38;5;28mprint\u001b[39m(\u001b[38;5;28mnext\u001b[39m(cd))\n\u001b[32m     18\u001b[39m \u001b[38;5;66;03m# this will raise a StopIteration\u001b[39;00m\n\u001b[32m---> \u001b[39m\u001b[32m19\u001b[39m \u001b[38;5;28mprint\u001b[39m(\u001b[38;5;28;43mnext\u001b[39;49m\u001b[43m(\u001b[49m\u001b[43mcd\u001b[49m\u001b[43m)\u001b[49m)\n",
      "\u001b[31mStopIteration\u001b[39m: "
     ]
    }
   ],
   "source": [
    "#Execution of a generator function\n",
    "def countdown(num):\n",
    "    print('Starting')\n",
    "    while num > 0:\n",
    "        yield num\n",
    "        num -= 1\n",
    "\n",
    "# this will not print 'Starting'\n",
    "cd = countdown(3)\n",
    "\n",
    "# this will print 'Starting' and the first value\n",
    "print(next(cd))\n",
    "\n",
    "# will print the next values\n",
    "print(next(cd))\n",
    "print(next(cd))\n",
    "\n",
    "# this will raise a StopIteration\n",
    "print(next(cd))"
   ]
  },
  {
   "cell_type": "code",
   "execution_count": 2,
   "id": "a9186ad6",
   "metadata": {},
   "outputs": [
    {
     "name": "stdout",
     "output_type": "stream",
     "text": [
      "Starting\n",
      "6\n",
      "Starting\n",
      "[1, 2, 3]\n"
     ]
    }
   ],
   "source": [
    "# you can use it for functions that take iterables as input\n",
    "cd = countdown(3)\n",
    "sum_cd = sum(cd)\n",
    "print(sum_cd)\n",
    "\n",
    "cd = countdown(3)\n",
    "sorted_cd = sorted(cd)\n",
    "print(sorted_cd)"
   ]
  },
  {
   "cell_type": "code",
   "execution_count": 3,
   "id": "50192ae1",
   "metadata": {},
   "outputs": [
    {
     "name": "stdout",
     "output_type": "stream",
     "text": [
      "499999500000\n",
      "8448728 bytes\n"
     ]
    }
   ],
   "source": [
    "#Big advantage: Generators save memory!\n",
    "# without a generator, the complete sequence has to be stored here in a list\n",
    "def firstn(n):\n",
    "    num, nums = 0, []\n",
    "    while num < n:\n",
    "        nums.append(num)\n",
    "        num += 1\n",
    "    return nums\n",
    "\n",
    "sum_of_first_n = sum(firstn(1000000))\n",
    "print(sum_of_first_n)\n",
    "import sys\n",
    "print(sys.getsizeof(firstn(1000000)), \"bytes\")"
   ]
  },
  {
   "cell_type": "code",
   "execution_count": 4,
   "id": "5a073190",
   "metadata": {},
   "outputs": [
    {
     "name": "stdout",
     "output_type": "stream",
     "text": [
      "499999500000\n",
      "192 bytes\n"
     ]
    }
   ],
   "source": [
    "# with a generator, no additional sequence is needed to store the numbers\n",
    "def firstn(n):\n",
    "    num = 0\n",
    "    while num < n:\n",
    "        yield num\n",
    "        num += 1\n",
    "\n",
    "sum_of_first_n = sum(firstn(1000000))\n",
    "print(sum_of_first_n)\n",
    "import sys\n",
    "print(sys.getsizeof(firstn(1000000)), \"bytes\")"
   ]
  },
  {
   "cell_type": "code",
   "execution_count": 5,
   "id": "625ae0f0",
   "metadata": {},
   "outputs": [
    {
     "name": "stdout",
     "output_type": "stream",
     "text": [
      "[0, 1, 1, 2, 3, 5, 8, 13, 21]\n"
     ]
    }
   ],
   "source": [
    "#Another example: Fibonacci numbers\n",
    "def fibonacci(limit):\n",
    "    a, b = 0, 1 # first two fibonacci numbers\n",
    "    while a < limit:\n",
    "        yield a\n",
    "        a, b = b, a + b\n",
    "\n",
    "fib = fibonacci(30)\n",
    "# generator objects can be converted to a list (only used for printing here)\n",
    "print(list(fib))"
   ]
  },
  {
   "cell_type": "code",
   "execution_count": 6,
   "id": "27e8c096",
   "metadata": {},
   "outputs": [
    {
     "name": "stdout",
     "output_type": "stream",
     "text": [
      "200\n",
      "4216\n"
     ]
    }
   ],
   "source": [
    "#Generator expressions\n",
    "# generator expression\n",
    "mygenerator = (i for i in range(1000) if i % 2 == 0)\n",
    "print(sys.getsizeof(mygenerator))\n",
    "\n",
    "# list comprehension\n",
    "mylist = [i for i in range(1000) if i % 2 == 0]\n",
    "print(sys.getsizeof(mylist))"
   ]
  },
  {
   "cell_type": "code",
   "execution_count": 7,
   "id": "9a27b2b4",
   "metadata": {},
   "outputs": [
    {
     "name": "stdout",
     "output_type": "stream",
     "text": [
      "499999500000\n"
     ]
    }
   ],
   "source": [
    "#Concept behind a generator\n",
    "class firstn:\n",
    "    def __init__(self, n):\n",
    "        self.n = n\n",
    "        self.num = 0\n",
    "        \n",
    "    def __iter__(self):\n",
    "        return self\n",
    "    \n",
    "    def __next__(self):\n",
    "        if self.num < self.n:\n",
    "            cur = self.num\n",
    "            self.num += 1\n",
    "            return cur\n",
    "        else:\n",
    "            raise StopIteration()\n",
    "             \n",
    "firstn_object = firstn(1000000)\n",
    "print(sum(firstn_object))"
   ]
  }
 ],
 "metadata": {
  "kernelspec": {
   "display_name": "Python 3",
   "language": "python",
   "name": "python3"
  },
  "language_info": {
   "codemirror_mode": {
    "name": "ipython",
    "version": 3
   },
   "file_extension": ".py",
   "mimetype": "text/x-python",
   "name": "python",
   "nbconvert_exporter": "python",
   "pygments_lexer": "ipython3",
   "version": "3.12.10"
  }
 },
 "nbformat": 4,
 "nbformat_minor": 5
}
